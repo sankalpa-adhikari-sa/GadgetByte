{
 "cells": [
  {
   "cell_type": "code",
   "execution_count": 215,
   "metadata": {},
   "outputs": [],
   "source": [
    "import pandas as pd\n",
    "import numpy as np\n",
    "import sklearn\n",
    "import matplotlib as plt\n",
    "import re\n",
    "import ast"
   ]
  },
  {
   "cell_type": "code",
   "execution_count": 216,
   "metadata": {},
   "outputs": [],
   "source": [
    "df1=pd.read_csv('../data/gadget_posts_100.csv')\n",
    "df2=pd.read_csv('../data/gadget_posts_200.csv')\n",
    "df3=pd.read_csv('../data/gadget_posts_300.csv')\n",
    "df4=pd.read_csv('../data/gadget_posts_400.csv')\n",
    "df5=pd.read_csv('../data/gadget_posts_500.csv')\n",
    "df6=pd.read_csv('../data/gadget_posts_600.csv')\n",
    "df7=pd.read_csv('../data/gadget_posts_700.csv')\n",
    "df8=pd.read_csv('../data/gadget_posts_800.csv')\n"
   ]
  },
  {
   "cell_type": "code",
   "execution_count": 217,
   "metadata": {},
   "outputs": [
    {
     "data": {
      "text/plain": [
       "((1000, 7),\n",
       " (999, 7),\n",
       " (999, 7),\n",
       " (1000, 7),\n",
       " (999, 7),\n",
       " (1000, 7),\n",
       " (1000, 7),\n",
       " (240, 7))"
      ]
     },
     "execution_count": 217,
     "metadata": {},
     "output_type": "execute_result"
    }
   ],
   "source": [
    "df1.shape, df2.shape, df3.shape, df4.shape, df5.shape,df6.shape,df7.shape,df8.shape"
   ]
  },
  {
   "cell_type": "code",
   "execution_count": 218,
   "metadata": {},
   "outputs": [],
   "source": [
    "df_combined= pd.concat([df1,df2,df3,df4,df5,df6,df7,df8], ignore_index=True)"
   ]
  },
  {
   "cell_type": "code",
   "execution_count": 219,
   "metadata": {},
   "outputs": [
    {
     "data": {
      "text/plain": [
       "(7237, 7)"
      ]
     },
     "execution_count": 219,
     "metadata": {},
     "output_type": "execute_result"
    }
   ],
   "source": [
    "df_combined.shape"
   ]
  },
  {
   "cell_type": "code",
   "execution_count": 220,
   "metadata": {},
   "outputs": [
    {
     "data": {
      "text/plain": [
       "['title',\n",
       " 'tags',\n",
       " 'author',\n",
       " 'published_date',\n",
       " 'official_date',\n",
       " 'posts',\n",
       " 'featured_image']"
      ]
     },
     "execution_count": 220,
     "metadata": {},
     "output_type": "execute_result"
    }
   ],
   "source": [
    "list(df_combined.columns)"
   ]
  },
  {
   "cell_type": "code",
   "execution_count": 221,
   "metadata": {},
   "outputs": [],
   "source": [
    "# df_combined.iloc[0].official_date"
   ]
  },
  {
   "cell_type": "code",
   "execution_count": 222,
   "metadata": {},
   "outputs": [
    {
     "data": {
      "text/html": [
       "<div>\n",
       "<style scoped>\n",
       "    .dataframe tbody tr th:only-of-type {\n",
       "        vertical-align: middle;\n",
       "    }\n",
       "\n",
       "    .dataframe tbody tr th {\n",
       "        vertical-align: top;\n",
       "    }\n",
       "\n",
       "    .dataframe thead th {\n",
       "        text-align: right;\n",
       "    }\n",
       "</style>\n",
       "<table border=\"1\" class=\"dataframe\">\n",
       "  <thead>\n",
       "    <tr style=\"text-align: right;\">\n",
       "      <th></th>\n",
       "      <th>title</th>\n",
       "      <th>tags</th>\n",
       "      <th>author</th>\n",
       "      <th>published_date</th>\n",
       "      <th>official_date</th>\n",
       "      <th>posts</th>\n",
       "      <th>featured_image</th>\n",
       "    </tr>\n",
       "  </thead>\n",
       "  <tbody>\n",
       "    <tr>\n",
       "      <th>0</th>\n",
       "      <td>['Xiaomi Pad 6 Max launched with a massive 14″...</td>\n",
       "      <td>['Tablet', 'Xiaomi']</td>\n",
       "      <td>['By Aarohan Niraula -  ']</td>\n",
       "      <td>['August 15, 2023']</td>\n",
       "      <td>2023-08-15 09:00:03+00:00</td>\n",
       "      <td>['Xiaomi recently launched the Pad 6 lineup wi...</td>\n",
       "      <td>['https://oss.gadgetbytenepal.com/wp-content/u...</td>\n",
       "    </tr>\n",
       "    <tr>\n",
       "      <th>1</th>\n",
       "      <td>['Xiaomi Mix Fold 3 launched as the thinnest f...</td>\n",
       "      <td>['Foldable Phones', 'Xiaomi']</td>\n",
       "      <td>['By Asmita Katel -  ']</td>\n",
       "      <td>['August 15, 2023']</td>\n",
       "      <td>2023-08-15 08:23:42+00:00</td>\n",
       "      <td>['Continuing the Xiaomi Mix Fold series, the X...</td>\n",
       "      <td>['https://oss.gadgetbytenepal.com/wp-content/u...</td>\n",
       "    </tr>\n",
       "    <tr>\n",
       "      <th>2</th>\n",
       "      <td>['Xiaomi Band 8 Pro launched with 1.74″ 60Hz O...</td>\n",
       "      <td>['Fitness Band', 'Fitness Tracking', 'Xiaomi']</td>\n",
       "      <td>['By Asmita Katel -  ']</td>\n",
       "      <td>['August 15, 2023']</td>\n",
       "      <td>2023-08-15 06:16:08+00:00</td>\n",
       "      <td>['Only yesterday, during Xiaomi CEO Lei Jun’s ...</td>\n",
       "      <td>['https://oss.gadgetbytenepal.com/wp-content/u...</td>\n",
       "    </tr>\n",
       "    <tr>\n",
       "      <th>3</th>\n",
       "      <td>['Tecno Phantom V Flip 5G coming with circular...</td>\n",
       "      <td>['Flip Phone', 'Rumor', 'TECNO']</td>\n",
       "      <td>['By Asmita Katel -  ']</td>\n",
       "      <td>['August 15, 2023']</td>\n",
       "      <td>2023-08-15 04:28:07+00:00</td>\n",
       "      <td>['Following the release of Tecno’s foldable ph...</td>\n",
       "      <td>['https://oss.gadgetbytenepal.com/wp-content/u...</td>\n",
       "    </tr>\n",
       "    <tr>\n",
       "      <th>4</th>\n",
       "      <td>['Vivo Pad Air announced with 144Hz display an...</td>\n",
       "      <td>['Tablet', 'Vivo']</td>\n",
       "      <td>['By Mintu -  ']</td>\n",
       "      <td>['August 14, 2023']</td>\n",
       "      <td>2023-08-14 07:01:46+00:00</td>\n",
       "      <td>['The  Vivo Pad  was launched back in April 20...</td>\n",
       "      <td>['https://oss.gadgetbytenepal.com/wp-content/u...</td>\n",
       "    </tr>\n",
       "    <tr>\n",
       "      <th>...</th>\n",
       "      <td>...</td>\n",
       "      <td>...</td>\n",
       "      <td>...</td>\n",
       "      <td>...</td>\n",
       "      <td>...</td>\n",
       "      <td>...</td>\n",
       "      <td>...</td>\n",
       "    </tr>\n",
       "    <tr>\n",
       "      <th>7232</th>\n",
       "      <td>['Micromax Canvas Turbo Price in Nepal [Update...</td>\n",
       "      <td>['Micromax', 'Reviews']</td>\n",
       "      <td>['By Yural Maskey -  ']</td>\n",
       "      <td>['November 21, 2013']</td>\n",
       "      <td>2013-11-21 17:16:49+00:00</td>\n",
       "      <td>['Micromax Nepal launched Canvas Turbo for  Rs...</td>\n",
       "      <td>['https://oss.gadgetbytenepal.com/wp-content/u...</td>\n",
       "    </tr>\n",
       "    <tr>\n",
       "      <th>7233</th>\n",
       "      <td>['Voilà! Windows Phone finally gets Instagram ...</td>\n",
       "      <td>[]</td>\n",
       "      <td>['By Yural Maskey -  ']</td>\n",
       "      <td>['November 21, 2013']</td>\n",
       "      <td>2013-11-21 14:50:50+00:00</td>\n",
       "      <td>['Hey Windows Phone users, A great news this m...</td>\n",
       "      <td>['https://oss.gadgetbytenepal.com/wp-content/u...</td>\n",
       "    </tr>\n",
       "    <tr>\n",
       "      <th>7234</th>\n",
       "      <td>['Samsung Galaxy Note 3 Review: The Best Phabl...</td>\n",
       "      <td>['Reviews', 'Samsung']</td>\n",
       "      <td>['By Yural Maskey -  ']</td>\n",
       "      <td>['November 20, 2013']</td>\n",
       "      <td>2013-11-20 15:40:04+00:00</td>\n",
       "      <td>['Samsung ‘s latest flagship, the Galaxy Note ...</td>\n",
       "      <td>['https://oss.gadgetbytenepal.com/wp-content/u...</td>\n",
       "    </tr>\n",
       "    <tr>\n",
       "      <th>7235</th>\n",
       "      <td>['Iphone 5S vs 5C, 5 things you should know!']</td>\n",
       "      <td>['Apple', 'Reviews']</td>\n",
       "      <td>['By Yural Maskey -  ']</td>\n",
       "      <td>['November 18, 2013']</td>\n",
       "      <td>2013-11-18 04:08:54+00:00</td>\n",
       "      <td>['Yeah, apple announced two new smartphones at...</td>\n",
       "      <td>['https://oss.gadgetbytenepal.com/wp-content/u...</td>\n",
       "    </tr>\n",
       "    <tr>\n",
       "      <th>7236</th>\n",
       "      <td>['Budget friendly Samsung Galaxy Core Smartpho...</td>\n",
       "      <td>['Reviews', 'Samsung']</td>\n",
       "      <td>['By Yural Maskey -  ']</td>\n",
       "      <td>['November 16, 2013']</td>\n",
       "      <td>2013-11-16 15:52:59+00:00</td>\n",
       "      <td>['Samsung Mobiles Nepal has announced the arri...</td>\n",
       "      <td>['https://oss.gadgetbytenepal.com/wp-content/u...</td>\n",
       "    </tr>\n",
       "  </tbody>\n",
       "</table>\n",
       "<p>7237 rows × 7 columns</p>\n",
       "</div>"
      ],
      "text/plain": [
       "                                                  title  \\\n",
       "0     ['Xiaomi Pad 6 Max launched with a massive 14″...   \n",
       "1     ['Xiaomi Mix Fold 3 launched as the thinnest f...   \n",
       "2     ['Xiaomi Band 8 Pro launched with 1.74″ 60Hz O...   \n",
       "3     ['Tecno Phantom V Flip 5G coming with circular...   \n",
       "4     ['Vivo Pad Air announced with 144Hz display an...   \n",
       "...                                                 ...   \n",
       "7232  ['Micromax Canvas Turbo Price in Nepal [Update...   \n",
       "7233  ['Voilà! Windows Phone finally gets Instagram ...   \n",
       "7234  ['Samsung Galaxy Note 3 Review: The Best Phabl...   \n",
       "7235     ['Iphone 5S vs 5C, 5 things you should know!']   \n",
       "7236  ['Budget friendly Samsung Galaxy Core Smartpho...   \n",
       "\n",
       "                                                tags  \\\n",
       "0                               ['Tablet', 'Xiaomi']   \n",
       "1                      ['Foldable Phones', 'Xiaomi']   \n",
       "2     ['Fitness Band', 'Fitness Tracking', 'Xiaomi']   \n",
       "3                   ['Flip Phone', 'Rumor', 'TECNO']   \n",
       "4                                 ['Tablet', 'Vivo']   \n",
       "...                                              ...   \n",
       "7232                         ['Micromax', 'Reviews']   \n",
       "7233                                              []   \n",
       "7234                          ['Reviews', 'Samsung']   \n",
       "7235                            ['Apple', 'Reviews']   \n",
       "7236                          ['Reviews', 'Samsung']   \n",
       "\n",
       "                          author         published_date  \\\n",
       "0     ['By Aarohan Niraula -  ']    ['August 15, 2023']   \n",
       "1        ['By Asmita Katel -  ']    ['August 15, 2023']   \n",
       "2        ['By Asmita Katel -  ']    ['August 15, 2023']   \n",
       "3        ['By Asmita Katel -  ']    ['August 15, 2023']   \n",
       "4               ['By Mintu -  ']    ['August 14, 2023']   \n",
       "...                          ...                    ...   \n",
       "7232     ['By Yural Maskey -  ']  ['November 21, 2013']   \n",
       "7233     ['By Yural Maskey -  ']  ['November 21, 2013']   \n",
       "7234     ['By Yural Maskey -  ']  ['November 20, 2013']   \n",
       "7235     ['By Yural Maskey -  ']  ['November 18, 2013']   \n",
       "7236     ['By Yural Maskey -  ']  ['November 16, 2013']   \n",
       "\n",
       "                  official_date  \\\n",
       "0     2023-08-15 09:00:03+00:00   \n",
       "1     2023-08-15 08:23:42+00:00   \n",
       "2     2023-08-15 06:16:08+00:00   \n",
       "3     2023-08-15 04:28:07+00:00   \n",
       "4     2023-08-14 07:01:46+00:00   \n",
       "...                         ...   \n",
       "7232  2013-11-21 17:16:49+00:00   \n",
       "7233  2013-11-21 14:50:50+00:00   \n",
       "7234  2013-11-20 15:40:04+00:00   \n",
       "7235  2013-11-18 04:08:54+00:00   \n",
       "7236  2013-11-16 15:52:59+00:00   \n",
       "\n",
       "                                                  posts  \\\n",
       "0     ['Xiaomi recently launched the Pad 6 lineup wi...   \n",
       "1     ['Continuing the Xiaomi Mix Fold series, the X...   \n",
       "2     ['Only yesterday, during Xiaomi CEO Lei Jun’s ...   \n",
       "3     ['Following the release of Tecno’s foldable ph...   \n",
       "4     ['The  Vivo Pad  was launched back in April 20...   \n",
       "...                                                 ...   \n",
       "7232  ['Micromax Nepal launched Canvas Turbo for  Rs...   \n",
       "7233  ['Hey Windows Phone users, A great news this m...   \n",
       "7234  ['Samsung ‘s latest flagship, the Galaxy Note ...   \n",
       "7235  ['Yeah, apple announced two new smartphones at...   \n",
       "7236  ['Samsung Mobiles Nepal has announced the arri...   \n",
       "\n",
       "                                         featured_image  \n",
       "0     ['https://oss.gadgetbytenepal.com/wp-content/u...  \n",
       "1     ['https://oss.gadgetbytenepal.com/wp-content/u...  \n",
       "2     ['https://oss.gadgetbytenepal.com/wp-content/u...  \n",
       "3     ['https://oss.gadgetbytenepal.com/wp-content/u...  \n",
       "4     ['https://oss.gadgetbytenepal.com/wp-content/u...  \n",
       "...                                                 ...  \n",
       "7232  ['https://oss.gadgetbytenepal.com/wp-content/u...  \n",
       "7233  ['https://oss.gadgetbytenepal.com/wp-content/u...  \n",
       "7234  ['https://oss.gadgetbytenepal.com/wp-content/u...  \n",
       "7235  ['https://oss.gadgetbytenepal.com/wp-content/u...  \n",
       "7236  ['https://oss.gadgetbytenepal.com/wp-content/u...  \n",
       "\n",
       "[7237 rows x 7 columns]"
      ]
     },
     "execution_count": 222,
     "metadata": {},
     "output_type": "execute_result"
    }
   ],
   "source": [
    "df_combined"
   ]
  },
  {
   "cell_type": "code",
   "execution_count": 223,
   "metadata": {},
   "outputs": [],
   "source": [
    "df_combined[\"posts\"]= df_combined[\"posts\"].apply(lambda x: re.sub(r'\\s+', ' ', x))"
   ]
  },
  {
   "cell_type": "code",
   "execution_count": 224,
   "metadata": {},
   "outputs": [],
   "source": [
    "df_combined[\"official_date\"]=pd.to_datetime(df_combined[\"official_date\"])"
   ]
  },
  {
   "cell_type": "code",
   "execution_count": 225,
   "metadata": {},
   "outputs": [],
   "source": [
    "pattern = r'By\\s*(.*?)\\s*-'\n",
    "def convert(obj):\n",
    "    L=[]\n",
    "    for text in ast.literal_eval(obj):\n",
    "       match = re.match(pattern, text)\n",
    "       if match:\n",
    "          L.append(match.group(1))\n",
    "          return L\n",
    "       else:\n",
    "          L.append(text)\n",
    "          return L"
   ]
  },
  {
   "cell_type": "code",
   "execution_count": 226,
   "metadata": {},
   "outputs": [],
   "source": [
    "df_combined[\"author\"]= df_combined[\"author\"].apply(convert)"
   ]
  },
  {
   "cell_type": "code",
   "execution_count": 227,
   "metadata": {},
   "outputs": [],
   "source": [
    "col=[\n",
    " 'published_date',\n",
    " 'posts',\n",
    " 'featured_image']\n",
    "for i in col:\n",
    "    df_combined[i]= df_combined[i].apply(ast.literal_eval)"
   ]
  },
  {
   "cell_type": "code",
   "execution_count": 228,
   "metadata": {},
   "outputs": [
    {
     "data": {
      "text/html": [
       "<div>\n",
       "<style scoped>\n",
       "    .dataframe tbody tr th:only-of-type {\n",
       "        vertical-align: middle;\n",
       "    }\n",
       "\n",
       "    .dataframe tbody tr th {\n",
       "        vertical-align: top;\n",
       "    }\n",
       "\n",
       "    .dataframe thead th {\n",
       "        text-align: right;\n",
       "    }\n",
       "</style>\n",
       "<table border=\"1\" class=\"dataframe\">\n",
       "  <thead>\n",
       "    <tr style=\"text-align: right;\">\n",
       "      <th></th>\n",
       "      <th>title</th>\n",
       "      <th>tags</th>\n",
       "      <th>author</th>\n",
       "      <th>published_date</th>\n",
       "      <th>official_date</th>\n",
       "      <th>posts</th>\n",
       "      <th>featured_image</th>\n",
       "    </tr>\n",
       "  </thead>\n",
       "  <tbody>\n",
       "    <tr>\n",
       "      <th>0</th>\n",
       "      <td>['Xiaomi Pad 6 Max launched with a massive 14″...</td>\n",
       "      <td>['Tablet', 'Xiaomi']</td>\n",
       "      <td>[Aarohan Niraula]</td>\n",
       "      <td>[August 15, 2023]</td>\n",
       "      <td>2023-08-15 09:00:03+00:00</td>\n",
       "      <td>[Xiaomi recently launched the Pad 6 lineup wit...</td>\n",
       "      <td>[https://oss.gadgetbytenepal.com/wp-content/up...</td>\n",
       "    </tr>\n",
       "    <tr>\n",
       "      <th>1</th>\n",
       "      <td>['Xiaomi Mix Fold 3 launched as the thinnest f...</td>\n",
       "      <td>['Foldable Phones', 'Xiaomi']</td>\n",
       "      <td>[Asmita Katel]</td>\n",
       "      <td>[August 15, 2023]</td>\n",
       "      <td>2023-08-15 08:23:42+00:00</td>\n",
       "      <td>[Continuing the Xiaomi Mix Fold series, the Xi...</td>\n",
       "      <td>[https://oss.gadgetbytenepal.com/wp-content/up...</td>\n",
       "    </tr>\n",
       "    <tr>\n",
       "      <th>2</th>\n",
       "      <td>['Xiaomi Band 8 Pro launched with 1.74″ 60Hz O...</td>\n",
       "      <td>['Fitness Band', 'Fitness Tracking', 'Xiaomi']</td>\n",
       "      <td>[Asmita Katel]</td>\n",
       "      <td>[August 15, 2023]</td>\n",
       "      <td>2023-08-15 06:16:08+00:00</td>\n",
       "      <td>[Only yesterday, during Xiaomi CEO Lei Jun’s a...</td>\n",
       "      <td>[https://oss.gadgetbytenepal.com/wp-content/up...</td>\n",
       "    </tr>\n",
       "  </tbody>\n",
       "</table>\n",
       "</div>"
      ],
      "text/plain": [
       "                                               title  \\\n",
       "0  ['Xiaomi Pad 6 Max launched with a massive 14″...   \n",
       "1  ['Xiaomi Mix Fold 3 launched as the thinnest f...   \n",
       "2  ['Xiaomi Band 8 Pro launched with 1.74″ 60Hz O...   \n",
       "\n",
       "                                             tags             author  \\\n",
       "0                            ['Tablet', 'Xiaomi']  [Aarohan Niraula]   \n",
       "1                   ['Foldable Phones', 'Xiaomi']     [Asmita Katel]   \n",
       "2  ['Fitness Band', 'Fitness Tracking', 'Xiaomi']     [Asmita Katel]   \n",
       "\n",
       "      published_date             official_date  \\\n",
       "0  [August 15, 2023] 2023-08-15 09:00:03+00:00   \n",
       "1  [August 15, 2023] 2023-08-15 08:23:42+00:00   \n",
       "2  [August 15, 2023] 2023-08-15 06:16:08+00:00   \n",
       "\n",
       "                                               posts  \\\n",
       "0  [Xiaomi recently launched the Pad 6 lineup wit...   \n",
       "1  [Continuing the Xiaomi Mix Fold series, the Xi...   \n",
       "2  [Only yesterday, during Xiaomi CEO Lei Jun’s a...   \n",
       "\n",
       "                                      featured_image  \n",
       "0  [https://oss.gadgetbytenepal.com/wp-content/up...  \n",
       "1  [https://oss.gadgetbytenepal.com/wp-content/up...  \n",
       "2  [https://oss.gadgetbytenepal.com/wp-content/up...  "
      ]
     },
     "execution_count": 228,
     "metadata": {},
     "output_type": "execute_result"
    }
   ],
   "source": [
    "df_combined.head(3)"
   ]
  },
  {
   "cell_type": "code",
   "execution_count": 231,
   "metadata": {},
   "outputs": [],
   "source": [
    "df_combined.to_csv('../data/gadgetbytenepal_combined.csv', index=False)"
   ]
  }
 ],
 "metadata": {
  "kernelspec": {
   "display_name": "ml_env",
   "language": "python",
   "name": "python3"
  },
  "language_info": {
   "codemirror_mode": {
    "name": "ipython",
    "version": 3
   },
   "file_extension": ".py",
   "mimetype": "text/x-python",
   "name": "python",
   "nbconvert_exporter": "python",
   "pygments_lexer": "ipython3",
   "version": "3.10.11"
  },
  "orig_nbformat": 4
 },
 "nbformat": 4,
 "nbformat_minor": 2
}
